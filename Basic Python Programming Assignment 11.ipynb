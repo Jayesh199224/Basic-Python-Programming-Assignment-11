{
 "cells": [
  {
   "cell_type": "code",
   "execution_count": 7,
   "metadata": {},
   "outputs": [
    {
     "name": "stdout",
     "output_type": "stream",
     "text": [
      "['there', 'everthing', 'going', 'life.']\n"
     ]
    }
   ],
   "source": [
    "#1.\tWrite a Python program to find words which are greater than given length k?\n",
    "def words_greater_than_k(k,str):\n",
    "    string = []\n",
    "    text = str.split(' ')\n",
    "    for i in text:\n",
    "        if len(i) > k:\n",
    "            string.append(i)\n",
    "    return string\n",
    "\n",
    "k = 4\n",
    "str = 'hi there how is everthing going on in your life.'\n",
    "print (words_greater_than_k(k,str))"
   ]
  },
  {
   "cell_type": "code",
   "execution_count": 13,
   "metadata": {},
   "outputs": [
    {
     "name": "stdout",
     "output_type": "stream",
     "text": [
      "hi ther how is everthing going on in your life.\n"
     ]
    }
   ],
   "source": [
    "#2.\tWrite a Python program for removing i-th character from a string?\n",
    "def remove(string,i):\n",
    "    a = string[:i]\n",
    "    \n",
    "    b = string[i+1:]\n",
    "    \n",
    "    \n",
    "    return a + b\n",
    "\n",
    "if __name__ == '__main__':\n",
    "    \n",
    "    string = 'hi there how is everthing going on in your life.'\n",
    "    \n",
    "    i = 7\n",
    "    print(remove(string,i))"
   ]
  },
  {
   "cell_type": "code",
   "execution_count": 21,
   "metadata": {},
   "outputs": [
    {
     "name": "stdout",
     "output_type": "stream",
     "text": [
      "['hi', 'there', 'how', 'is', 'everthing', 'going', 'on', 'in', 'your', 'life.']\n",
      "hi-there-how-is-everthing-going-on-in-your-life.\n"
     ]
    }
   ],
   "source": [
    "#3.\tWrite a Python program to split and join a string?\n",
    "def split(string):\n",
    "    lst = string.split(\" \")\n",
    "    return lst\n",
    "\n",
    "def join(string0):\n",
    "    l = '-'.join(string0)\n",
    "    return l\n",
    "\n",
    "if __name__ == '__main__':\n",
    "    string = 'hi there how is everthing going on in your life.'\n",
    "    \n",
    "    lst = split(string)\n",
    "    print(lst)\n",
    "    \n",
    "    new_string = join(lst)\n",
    "    print (new_string)\n",
    "    "
   ]
  },
  {
   "cell_type": "code",
   "execution_count": 2,
   "metadata": {},
   "outputs": [
    {
     "name": "stdout",
     "output_type": "stream",
     "text": [
      "insert a string for binary check: 110100550011\n",
      "110100550011  - String_1 is not a binary string.\n"
     ]
    }
   ],
   "source": [
    "#4.\tWrite a Python to check if a given string is binary string or not?\n",
    "string_1 = str(input('insert a string for binary check: '))\n",
    "\n",
    "b = {'0','1'}\n",
    "t = set (string_1)\n",
    "\n",
    "if b == t or t == {'0'} or t == {'1'}:\n",
    "    print(string_1,' - String_1 is a binary string.')\n",
    "else :\n",
    "    print(string_1,' - String_1 is not a binary string.')"
   ]
  },
  {
   "cell_type": "code",
   "execution_count": 8,
   "metadata": {},
   "outputs": [
    {
     "name": "stdout",
     "output_type": "stream",
     "text": [
      " Jayesh Parab\n"
     ]
    }
   ],
   "source": [
    "#5.\tWrite a Python program to find uncommon words from two Strings?\n",
    "def u_w (a,b):\n",
    "    list_a = a.split()\n",
    "    list_b = b.split()\n",
    "    \n",
    "    uc = ''\n",
    "    for i in list_a:\n",
    "        if i not in list_b:\n",
    "            uc= uc + ' ' + i\n",
    "    for j in list_b:\n",
    "        if j not in list_a:\n",
    "            uc = uc+ ' ' + j\n",
    "            \n",
    "    return uc\n",
    "\n",
    "a = 'hello my name is Jayesh'\n",
    "b = 'hello my name is Parab'\n",
    "print(u_w(a,b))"
   ]
  },
  {
   "cell_type": "code",
   "execution_count": 11,
   "metadata": {},
   "outputs": [
    {
     "name": "stdout",
     "output_type": "stream",
     "text": [
      "Enter the string to find duplicate characters : hi there how is your day\n",
      "['h', 'i', ' ', 'e', 'r', 'o', 'y']\n"
     ]
    }
   ],
   "source": [
    "#6.\tWrite a Python to find all duplicate characters in string?\n",
    "string = str(input('Enter the string to find duplicate characters : '))\n",
    "\n",
    "dup = []\n",
    "\n",
    "for char in string:\n",
    "    if string.count(char) > 1 :\n",
    "        if char not in dup:\n",
    "            dup.append(char)\n",
    "print(dup)\n",
    "    "
   ]
  },
  {
   "cell_type": "code",
   "execution_count": 16,
   "metadata": {},
   "outputs": [
    {
     "name": "stdout",
     "output_type": "stream",
     "text": [
      "what is your name?\n",
      "The string contains special character\n"
     ]
    }
   ],
   "source": [
    "#7.\tWrite a Python Program to check if a string contains any special character?\n",
    "special_characters = '!@#$%^&*()-+?_=,<>/'\n",
    "s=input()\n",
    "\n",
    "if any(c in special_characters for c in s):\n",
    "    print(\"The string contains special character\")\n",
    "else:\n",
    "    print(\"The string does not contains special character\")"
   ]
  },
  {
   "cell_type": "code",
   "execution_count": null,
   "metadata": {},
   "outputs": [],
   "source": []
  }
 ],
 "metadata": {
  "kernelspec": {
   "display_name": "Python 3",
   "language": "python",
   "name": "python3"
  },
  "language_info": {
   "codemirror_mode": {
    "name": "ipython",
    "version": 3
   },
   "file_extension": ".py",
   "mimetype": "text/x-python",
   "name": "python",
   "nbconvert_exporter": "python",
   "pygments_lexer": "ipython3",
   "version": "3.8.5"
  }
 },
 "nbformat": 4,
 "nbformat_minor": 4
}
